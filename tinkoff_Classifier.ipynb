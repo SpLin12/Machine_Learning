{
 "cells": [
  {
   "cell_type": "code",
   "execution_count": 1,
   "metadata": {
    "collapsed": false
   },
   "outputs": [],
   "source": [
    "import pandas as pd\n",
    "import numpy as np\n",
    "\n",
    "import matplotlib.pyplot as plt\n",
    "plt.style.use('ggplot')\n",
    "%matplotlib inline\n",
    "import seaborn as sns\n",
    "\n",
    "from pylightgbm.models import GBMClassifier\n",
    "import xgboost as xgb\n",
    "from xgboost import XGBClassifier\n",
    "import lightgbm as lgb\n",
    "\n",
    "from sklearn import metrics"
   ]
  },
  {
   "cell_type": "markdown",
   "metadata": {},
   "source": [
    "Читаем наши csv файлы, в файлах есть русский текст, поэтому используем кодировку cp1251"
   ]
  },
  {
   "cell_type": "code",
   "execution_count": 2,
   "metadata": {
    "collapsed": false
   },
   "outputs": [],
   "source": [
    "test = pd.read_csv('./credit_test.csv',  encoding='cp1251', sep=';',\n",
    "                   index_col='client_id')\n",
    "train = pd.read_csv('./credit_train.csv',  encoding='cp1251', sep=';',\n",
    "                    index_col='client_id')"
   ]
  },
  {
   "cell_type": "code",
   "execution_count": 3,
   "metadata": {
    "collapsed": false
   },
   "outputs": [
    {
     "name": "stdout",
     "output_type": "stream",
     "text": [
      "<class 'pandas.core.frame.DataFrame'>\n",
      "Int64Index: 170746 entries, 1 to 170746\n",
      "Data columns (total 14 columns):\n",
      "gender                  170746 non-null object\n",
      "age                     170746 non-null int64\n",
      "marital_status          170746 non-null object\n",
      "job_position            170746 non-null object\n",
      "credit_sum              170746 non-null object\n",
      "credit_month            170746 non-null int64\n",
      "tariff_id               170746 non-null float64\n",
      "score_shk               170746 non-null object\n",
      "education               170746 non-null object\n",
      "living_region           170554 non-null object\n",
      "monthly_income          170745 non-null float64\n",
      "credit_count            161516 non-null float64\n",
      "overdue_credit_count    161516 non-null float64\n",
      "open_account_flg        170746 non-null int64\n",
      "dtypes: float64(4), int64(3), object(7)\n",
      "memory usage: 19.5+ MB\n"
     ]
    }
   ],
   "source": [
    "train.info()"
   ]
  },
  {
   "cell_type": "markdown",
   "metadata": {},
   "source": [
    "Поля ('credit_sum', 'score_shk') имеют тип - object. Надо преобразовать их в float."
   ]
  },
  {
   "cell_type": "code",
   "execution_count": 4,
   "metadata": {
    "collapsed": false
   },
   "outputs": [],
   "source": [
    "def transformat_to_float(dataset, column):\n",
    "    dataset[column].replace([','], ['.'], regex=True, inplace=True)\n",
    "    dataset[column] = dataset[column].astype(np.float)"
   ]
  },
  {
   "cell_type": "code",
   "execution_count": 5,
   "metadata": {
    "collapsed": false
   },
   "outputs": [],
   "source": [
    "for x in ['credit_sum', 'score_shk']:\n",
    "    transformat_to_float(train, x)\n",
    "    transformat_to_float(test, x)"
   ]
  },
  {
   "cell_type": "markdown",
   "metadata": {},
   "source": [
    "Переменную tariff_id сделаем категориальной "
   ]
  },
  {
   "cell_type": "code",
   "execution_count": 6,
   "metadata": {
    "collapsed": false
   },
   "outputs": [],
   "source": [
    "train.tariff_id = train.tariff_id.astype(np.str)\n",
    "test.tariff_id = test.tariff_id.astype(np.str)"
   ]
  },
  {
   "cell_type": "code",
   "execution_count": 7,
   "metadata": {
    "collapsed": false
   },
   "outputs": [
    {
     "data": {
      "text/html": [
       "<div>\n",
       "<table border=\"1\" class=\"dataframe\">\n",
       "  <thead>\n",
       "    <tr style=\"text-align: right;\">\n",
       "      <th></th>\n",
       "      <th>gender</th>\n",
       "      <th>age</th>\n",
       "      <th>marital_status</th>\n",
       "      <th>job_position</th>\n",
       "      <th>credit_sum</th>\n",
       "      <th>credit_month</th>\n",
       "      <th>tariff_id</th>\n",
       "      <th>score_shk</th>\n",
       "      <th>education</th>\n",
       "      <th>living_region</th>\n",
       "      <th>monthly_income</th>\n",
       "      <th>credit_count</th>\n",
       "      <th>overdue_credit_count</th>\n",
       "      <th>open_account_flg</th>\n",
       "    </tr>\n",
       "    <tr>\n",
       "      <th>client_id</th>\n",
       "      <th></th>\n",
       "      <th></th>\n",
       "      <th></th>\n",
       "      <th></th>\n",
       "      <th></th>\n",
       "      <th></th>\n",
       "      <th></th>\n",
       "      <th></th>\n",
       "      <th></th>\n",
       "      <th></th>\n",
       "      <th></th>\n",
       "      <th></th>\n",
       "      <th></th>\n",
       "      <th></th>\n",
       "    </tr>\n",
       "  </thead>\n",
       "  <tbody>\n",
       "    <tr>\n",
       "      <th>1</th>\n",
       "      <td>M</td>\n",
       "      <td>48</td>\n",
       "      <td>MAR</td>\n",
       "      <td>UMN</td>\n",
       "      <td>59998.00</td>\n",
       "      <td>10</td>\n",
       "      <td>1.6</td>\n",
       "      <td>0.770249</td>\n",
       "      <td>GRD</td>\n",
       "      <td>КРАСНОДАРСКИЙ КРАЙ</td>\n",
       "      <td>30000.0</td>\n",
       "      <td>1.0</td>\n",
       "      <td>1.0</td>\n",
       "      <td>0</td>\n",
       "    </tr>\n",
       "    <tr>\n",
       "      <th>2</th>\n",
       "      <td>F</td>\n",
       "      <td>28</td>\n",
       "      <td>MAR</td>\n",
       "      <td>UMN</td>\n",
       "      <td>10889.00</td>\n",
       "      <td>6</td>\n",
       "      <td>1.1</td>\n",
       "      <td>0.248514</td>\n",
       "      <td>GRD</td>\n",
       "      <td>МОСКВА</td>\n",
       "      <td>43000.0</td>\n",
       "      <td>2.0</td>\n",
       "      <td>0.0</td>\n",
       "      <td>0</td>\n",
       "    </tr>\n",
       "    <tr>\n",
       "      <th>3</th>\n",
       "      <td>M</td>\n",
       "      <td>32</td>\n",
       "      <td>MAR</td>\n",
       "      <td>SPC</td>\n",
       "      <td>10728.00</td>\n",
       "      <td>12</td>\n",
       "      <td>1.1</td>\n",
       "      <td>0.459589</td>\n",
       "      <td>SCH</td>\n",
       "      <td>ОБЛ САРАТОВСКАЯ</td>\n",
       "      <td>23000.0</td>\n",
       "      <td>5.0</td>\n",
       "      <td>0.0</td>\n",
       "      <td>0</td>\n",
       "    </tr>\n",
       "    <tr>\n",
       "      <th>4</th>\n",
       "      <td>F</td>\n",
       "      <td>27</td>\n",
       "      <td>DIV</td>\n",
       "      <td>SPC</td>\n",
       "      <td>12009.09</td>\n",
       "      <td>12</td>\n",
       "      <td>1.1</td>\n",
       "      <td>0.362536</td>\n",
       "      <td>GRD</td>\n",
       "      <td>ОБЛ ВОЛГОГРАДСКАЯ</td>\n",
       "      <td>17000.0</td>\n",
       "      <td>2.0</td>\n",
       "      <td>0.0</td>\n",
       "      <td>0</td>\n",
       "    </tr>\n",
       "    <tr>\n",
       "      <th>5</th>\n",
       "      <td>M</td>\n",
       "      <td>45</td>\n",
       "      <td>MAR</td>\n",
       "      <td>SPC</td>\n",
       "      <td>16908.89</td>\n",
       "      <td>10</td>\n",
       "      <td>1.1</td>\n",
       "      <td>0.421385</td>\n",
       "      <td>SCH</td>\n",
       "      <td>ЧЕЛЯБИНСКАЯ ОБЛАСТЬ</td>\n",
       "      <td>25000.0</td>\n",
       "      <td>1.0</td>\n",
       "      <td>0.0</td>\n",
       "      <td>0</td>\n",
       "    </tr>\n",
       "  </tbody>\n",
       "</table>\n",
       "</div>"
      ],
      "text/plain": [
       "          gender  age marital_status job_position  credit_sum  credit_month  \\\n",
       "client_id                                                                     \n",
       "1              M   48            MAR          UMN    59998.00            10   \n",
       "2              F   28            MAR          UMN    10889.00             6   \n",
       "3              M   32            MAR          SPC    10728.00            12   \n",
       "4              F   27            DIV          SPC    12009.09            12   \n",
       "5              M   45            MAR          SPC    16908.89            10   \n",
       "\n",
       "          tariff_id  score_shk education        living_region  monthly_income  \\\n",
       "client_id                                                                       \n",
       "1               1.6   0.770249       GRD   КРАСНОДАРСКИЙ КРАЙ         30000.0   \n",
       "2               1.1   0.248514       GRD               МОСКВА         43000.0   \n",
       "3               1.1   0.459589       SCH      ОБЛ САРАТОВСКАЯ         23000.0   \n",
       "4               1.1   0.362536       GRD    ОБЛ ВОЛГОГРАДСКАЯ         17000.0   \n",
       "5               1.1   0.421385       SCH  ЧЕЛЯБИНСКАЯ ОБЛАСТЬ         25000.0   \n",
       "\n",
       "           credit_count  overdue_credit_count  open_account_flg  \n",
       "client_id                                                        \n",
       "1                   1.0                   1.0                 0  \n",
       "2                   2.0                   0.0                 0  \n",
       "3                   5.0                   0.0                 0  \n",
       "4                   2.0                   0.0                 0  \n",
       "5                   1.0                   0.0                 0  "
      ]
     },
     "execution_count": 7,
     "metadata": {},
     "output_type": "execute_result"
    }
   ],
   "source": [
    "train.head()"
   ]
  },
  {
   "cell_type": "code",
   "execution_count": 8,
   "metadata": {
    "collapsed": false
   },
   "outputs": [
    {
     "data": {
      "text/html": [
       "<div>\n",
       "<table border=\"1\" class=\"dataframe\">\n",
       "  <thead>\n",
       "    <tr style=\"text-align: right;\">\n",
       "      <th></th>\n",
       "      <th>age</th>\n",
       "      <th>credit_sum</th>\n",
       "      <th>credit_month</th>\n",
       "      <th>score_shk</th>\n",
       "      <th>monthly_income</th>\n",
       "      <th>credit_count</th>\n",
       "      <th>overdue_credit_count</th>\n",
       "      <th>open_account_flg</th>\n",
       "    </tr>\n",
       "  </thead>\n",
       "  <tbody>\n",
       "    <tr>\n",
       "      <th>count</th>\n",
       "      <td>170746.000000</td>\n",
       "      <td>170746.000000</td>\n",
       "      <td>170746.000000</td>\n",
       "      <td>170746.000000</td>\n",
       "      <td>170745.000000</td>\n",
       "      <td>161516.000000</td>\n",
       "      <td>161516.000000</td>\n",
       "      <td>170746.000000</td>\n",
       "    </tr>\n",
       "    <tr>\n",
       "      <th>mean</th>\n",
       "      <td>36.497283</td>\n",
       "      <td>26095.047799</td>\n",
       "      <td>10.980749</td>\n",
       "      <td>0.469473</td>\n",
       "      <td>40138.288354</td>\n",
       "      <td>2.107308</td>\n",
       "      <td>0.046070</td>\n",
       "      <td>0.176028</td>\n",
       "    </tr>\n",
       "    <tr>\n",
       "      <th>std</th>\n",
       "      <td>10.546008</td>\n",
       "      <td>16234.794320</td>\n",
       "      <td>3.536698</td>\n",
       "      <td>0.124268</td>\n",
       "      <td>25044.205336</td>\n",
       "      <td>1.777128</td>\n",
       "      <td>0.211548</td>\n",
       "      <td>0.380845</td>\n",
       "    </tr>\n",
       "    <tr>\n",
       "      <th>min</th>\n",
       "      <td>18.000000</td>\n",
       "      <td>2736.000000</td>\n",
       "      <td>3.000000</td>\n",
       "      <td>0.000000</td>\n",
       "      <td>5000.000000</td>\n",
       "      <td>0.000000</td>\n",
       "      <td>0.000000</td>\n",
       "      <td>0.000000</td>\n",
       "    </tr>\n",
       "    <tr>\n",
       "      <th>25%</th>\n",
       "      <td>28.000000</td>\n",
       "      <td>14908.000000</td>\n",
       "      <td>10.000000</td>\n",
       "      <td>0.379495</td>\n",
       "      <td>25000.000000</td>\n",
       "      <td>1.000000</td>\n",
       "      <td>0.000000</td>\n",
       "      <td>0.000000</td>\n",
       "    </tr>\n",
       "    <tr>\n",
       "      <th>50%</th>\n",
       "      <td>34.000000</td>\n",
       "      <td>21229.000000</td>\n",
       "      <td>10.000000</td>\n",
       "      <td>0.461599</td>\n",
       "      <td>35000.000000</td>\n",
       "      <td>2.000000</td>\n",
       "      <td>0.000000</td>\n",
       "      <td>0.000000</td>\n",
       "    </tr>\n",
       "    <tr>\n",
       "      <th>75%</th>\n",
       "      <td>43.000000</td>\n",
       "      <td>32068.000000</td>\n",
       "      <td>12.000000</td>\n",
       "      <td>0.552419</td>\n",
       "      <td>50000.000000</td>\n",
       "      <td>3.000000</td>\n",
       "      <td>0.000000</td>\n",
       "      <td>0.000000</td>\n",
       "    </tr>\n",
       "    <tr>\n",
       "      <th>max</th>\n",
       "      <td>71.000000</td>\n",
       "      <td>200000.000000</td>\n",
       "      <td>36.000000</td>\n",
       "      <td>1.128291</td>\n",
       "      <td>950000.000000</td>\n",
       "      <td>21.000000</td>\n",
       "      <td>3.000000</td>\n",
       "      <td>1.000000</td>\n",
       "    </tr>\n",
       "  </tbody>\n",
       "</table>\n",
       "</div>"
      ],
      "text/plain": [
       "                 age     credit_sum   credit_month      score_shk  \\\n",
       "count  170746.000000  170746.000000  170746.000000  170746.000000   \n",
       "mean       36.497283   26095.047799      10.980749       0.469473   \n",
       "std        10.546008   16234.794320       3.536698       0.124268   \n",
       "min        18.000000    2736.000000       3.000000       0.000000   \n",
       "25%        28.000000   14908.000000      10.000000       0.379495   \n",
       "50%        34.000000   21229.000000      10.000000       0.461599   \n",
       "75%        43.000000   32068.000000      12.000000       0.552419   \n",
       "max        71.000000  200000.000000      36.000000       1.128291   \n",
       "\n",
       "       monthly_income   credit_count  overdue_credit_count  open_account_flg  \n",
       "count   170745.000000  161516.000000         161516.000000     170746.000000  \n",
       "mean     40138.288354       2.107308              0.046070          0.176028  \n",
       "std      25044.205336       1.777128              0.211548          0.380845  \n",
       "min       5000.000000       0.000000              0.000000          0.000000  \n",
       "25%      25000.000000       1.000000              0.000000          0.000000  \n",
       "50%      35000.000000       2.000000              0.000000          0.000000  \n",
       "75%      50000.000000       3.000000              0.000000          0.000000  \n",
       "max     950000.000000      21.000000              3.000000          1.000000  "
      ]
     },
     "execution_count": 8,
     "metadata": {},
     "output_type": "execute_result"
    }
   ],
   "source": [
    "train.describe()"
   ]
  },
  {
   "cell_type": "markdown",
   "metadata": {},
   "source": [
    "Добавляем новые переменные"
   ]
  },
  {
   "cell_type": "code",
   "execution_count": 9,
   "metadata": {
    "collapsed": false
   },
   "outputs": [],
   "source": [
    "train['mi_cs'] = train.monthly_income*train.credit_sum\n",
    "train['mi_cm'] = train.monthly_income*train.credit_month\n",
    "train['mi_cc'] = train.monthly_income*train.credit_count\n",
    "train['mi_occ'] = train.monthly_income*train.overdue_credit_count\n",
    "train['mi_div_cc'] = train.monthly_income/train.credit_count\n",
    "train['mi_div_occ'] = train.monthly_income/train.overdue_credit_count\n",
    "train['mi_minus_div_cc'] = (train.monthly_income-(train.credit_sum/train.credit_month))/train.credit_count\n",
    "train['mi_minus_div_occ'] = (train.monthly_income-(train.credit_sum/train.credit_month))/train.overdue_credit_count\n",
    "\n",
    "\n",
    "test['mi_cs'] = test.monthly_income*test.credit_sum\n",
    "test['mi_cm'] = test.monthly_income*test.credit_month\n",
    "test['mi_cc'] = test.monthly_income*test.credit_count\n",
    "test['mi_occ'] = test.monthly_income*test.overdue_credit_count\n",
    "test['mi_div_cc'] = test.monthly_income/test.credit_count\n",
    "test['mi_div_occ'] = test.monthly_income/test.overdue_credit_count\n",
    "test['mi_minus_div_cc'] = (test.monthly_income-(test.credit_sum/test.credit_month))/test.credit_count\n",
    "test['mi_minus_div_occ'] = (test.monthly_income-(test.credit_sum/test.credit_month))/test.overdue_credit_count"
   ]
  },
  {
   "cell_type": "markdown",
   "metadata": {},
   "source": [
    "Строки, имеющие пропуски, заполним нулями"
   ]
  },
  {
   "cell_type": "code",
   "execution_count": 10,
   "metadata": {
    "collapsed": false
   },
   "outputs": [
    {
     "name": "stderr",
     "output_type": "stream",
     "text": [
      "C:\\Anaconda3\\lib\\site-packages\\pandas\\core\\generic.py:3299: UserWarning: the \"axis\" argument is deprecated and will be removed inv0.13; this argument has no effect\n",
      "  warn('the \"axis\" argument is deprecated and will be removed in'\n"
     ]
    }
   ],
   "source": [
    "train = train.fillna(0, axis=0)\n",
    "train = train.replace(['inf', '-inf'],0, axis=0)\n",
    "\n",
    "test = test.fillna(0, axis=0)\n",
    "test = test.replace(['inf', '-inf'],0, axis=0)"
   ]
  },
  {
   "cell_type": "markdown",
   "metadata": {},
   "source": [
    "Переменная 'living_region' очень \"грязная\", имеет слишком много различных значений. Эти данные надо \"чистить\" с помощью \"регулярных выражений\". Пока отбросим этот столбец."
   ]
  },
  {
   "cell_type": "code",
   "execution_count": 11,
   "metadata": {
    "collapsed": true
   },
   "outputs": [],
   "source": [
    "train.drop(['living_region'], inplace=True,axis=1)\n",
    "#train.drop(['living_region', 'tariff_id'], inplace=True,axis=1)\n",
    "test.drop(['living_region'], inplace=True,axis=1)\n",
    "#test.drop(['living_region', 'tariff_id'], inplace=True,axis=1)"
   ]
  },
  {
   "cell_type": "markdown",
   "metadata": {
    "collapsed": false
   },
   "source": [
    "Разделим данные на категориальные и количественные"
   ]
  },
  {
   "cell_type": "code",
   "execution_count": 12,
   "metadata": {
    "collapsed": false
   },
   "outputs": [
    {
     "name": "stdout",
     "output_type": "stream",
     "text": [
      "['gender', 'marital_status', 'job_position', 'tariff_id', 'education']\n",
      "['age', 'credit_sum', 'credit_month', 'score_shk', 'monthly_income', 'credit_count', 'overdue_credit_count', 'mi_cs', 'mi_cm', 'mi_cc', 'mi_occ', 'mi_div_cc', 'mi_div_occ', 'mi_minus_div_cc', 'mi_minus_div_occ']\n"
     ]
    }
   ],
   "source": [
    "categorical_columns = [x for x in train.columns if train[x].dtype.name == 'object']\n",
    "numerical_columns = [x for x in train.columns if train[x].dtype.name != 'object']\n",
    "numerical_columns.remove('open_account_flg')\n",
    "print(categorical_columns)\n",
    "print(numerical_columns)"
   ]
  },
  {
   "cell_type": "code",
   "execution_count": 13,
   "metadata": {
    "collapsed": false
   },
   "outputs": [
    {
     "data": {
      "text/html": [
       "<div>\n",
       "<table border=\"1\" class=\"dataframe\">\n",
       "  <thead>\n",
       "    <tr style=\"text-align: right;\">\n",
       "      <th></th>\n",
       "      <th>gender</th>\n",
       "      <th>marital_status</th>\n",
       "      <th>job_position</th>\n",
       "      <th>tariff_id</th>\n",
       "      <th>education</th>\n",
       "    </tr>\n",
       "  </thead>\n",
       "  <tbody>\n",
       "    <tr>\n",
       "      <th>count</th>\n",
       "      <td>170746</td>\n",
       "      <td>170746</td>\n",
       "      <td>170746</td>\n",
       "      <td>170746</td>\n",
       "      <td>170746</td>\n",
       "    </tr>\n",
       "    <tr>\n",
       "      <th>unique</th>\n",
       "      <td>2</td>\n",
       "      <td>5</td>\n",
       "      <td>18</td>\n",
       "      <td>32</td>\n",
       "      <td>5</td>\n",
       "    </tr>\n",
       "    <tr>\n",
       "      <th>top</th>\n",
       "      <td>F</td>\n",
       "      <td>MAR</td>\n",
       "      <td>SPC</td>\n",
       "      <td>1.1</td>\n",
       "      <td>SCH</td>\n",
       "    </tr>\n",
       "    <tr>\n",
       "      <th>freq</th>\n",
       "      <td>88697</td>\n",
       "      <td>93956</td>\n",
       "      <td>134680</td>\n",
       "      <td>69355</td>\n",
       "      <td>87539</td>\n",
       "    </tr>\n",
       "  </tbody>\n",
       "</table>\n",
       "</div>"
      ],
      "text/plain": [
       "        gender marital_status job_position tariff_id education\n",
       "count   170746         170746       170746    170746    170746\n",
       "unique       2              5           18        32         5\n",
       "top          F            MAR          SPC       1.1       SCH\n",
       "freq     88697          93956       134680     69355     87539"
      ]
     },
     "execution_count": 13,
     "metadata": {},
     "output_type": "execute_result"
    }
   ],
   "source": [
    "train[categorical_columns].describe()"
   ]
  },
  {
   "cell_type": "markdown",
   "metadata": {},
   "source": [
    "Векторизация небинарных признаков"
   ]
  },
  {
   "cell_type": "code",
   "execution_count": 14,
   "metadata": {
    "collapsed": false
   },
   "outputs": [
    {
     "name": "stdout",
     "output_type": "stream",
     "text": [
      "Index(['gender_F', 'gender_M', 'marital_status_CIV', 'marital_status_DIV',\n",
      "       'marital_status_MAR', 'marital_status_UNM', 'marital_status_WID',\n",
      "       'job_position_ATP', 'job_position_BIS', 'job_position_BIU',\n",
      "       'job_position_DIR', 'job_position_HSK', 'job_position_INP',\n",
      "       'job_position_INV', 'job_position_NOR', 'job_position_ONB',\n",
      "       'job_position_PNA', 'job_position_PNI', 'job_position_PNS',\n",
      "       'job_position_PNV', 'job_position_SPC', 'job_position_UMN',\n",
      "       'job_position_WOI', 'job_position_WRK', 'job_position_WRP',\n",
      "       'tariff_id_1.0', 'tariff_id_1.1', 'tariff_id_1.16', 'tariff_id_1.17',\n",
      "       'tariff_id_1.18', 'tariff_id_1.19', 'tariff_id_1.2', 'tariff_id_1.21',\n",
      "       'tariff_id_1.22', 'tariff_id_1.23', 'tariff_id_1.24', 'tariff_id_1.25',\n",
      "       'tariff_id_1.26', 'tariff_id_1.27', 'tariff_id_1.28', 'tariff_id_1.29',\n",
      "       'tariff_id_1.3', 'tariff_id_1.32', 'tariff_id_1.4', 'tariff_id_1.41',\n",
      "       'tariff_id_1.43', 'tariff_id_1.44', 'tariff_id_1.48', 'tariff_id_1.5',\n",
      "       'tariff_id_1.52', 'tariff_id_1.56', 'tariff_id_1.6', 'tariff_id_1.7',\n",
      "       'tariff_id_1.9', 'tariff_id_1.91', 'tariff_id_1.94', 'tariff_id_1.96',\n",
      "       'education_ACD', 'education_GRD', 'education_PGR', 'education_SCH',\n",
      "       'education_UGR'],\n",
      "      dtype='object')\n"
     ]
    }
   ],
   "source": [
    "train_nonbinary = pd.get_dummies(train[categorical_columns])\n",
    "test_nonbinary = pd.get_dummies(test[categorical_columns])\n",
    "\n",
    "print(train_nonbinary.columns)"
   ]
  },
  {
   "cell_type": "markdown",
   "metadata": {},
   "source": [
    "Нормализация количественных признаков"
   ]
  },
  {
   "cell_type": "code",
   "execution_count": 15,
   "metadata": {
    "collapsed": false
   },
   "outputs": [
    {
     "data": {
      "text/html": [
       "<div>\n",
       "<table border=\"1\" class=\"dataframe\">\n",
       "  <thead>\n",
       "    <tr style=\"text-align: right;\">\n",
       "      <th></th>\n",
       "      <th>age</th>\n",
       "      <th>credit_sum</th>\n",
       "      <th>credit_month</th>\n",
       "      <th>score_shk</th>\n",
       "      <th>monthly_income</th>\n",
       "      <th>credit_count</th>\n",
       "      <th>overdue_credit_count</th>\n",
       "      <th>mi_cs</th>\n",
       "      <th>mi_cm</th>\n",
       "      <th>mi_cc</th>\n",
       "      <th>mi_occ</th>\n",
       "      <th>mi_div_cc</th>\n",
       "      <th>mi_div_occ</th>\n",
       "      <th>mi_minus_div_cc</th>\n",
       "      <th>mi_minus_div_occ</th>\n",
       "    </tr>\n",
       "  </thead>\n",
       "  <tbody>\n",
       "    <tr>\n",
       "      <th>count</th>\n",
       "      <td>1.707460e+05</td>\n",
       "      <td>1.707460e+05</td>\n",
       "      <td>1.707460e+05</td>\n",
       "      <td>1.707460e+05</td>\n",
       "      <td>1.707460e+05</td>\n",
       "      <td>1.707460e+05</td>\n",
       "      <td>1.707460e+05</td>\n",
       "      <td>1.707460e+05</td>\n",
       "      <td>1.707460e+05</td>\n",
       "      <td>1.707460e+05</td>\n",
       "      <td>1.707460e+05</td>\n",
       "      <td>1.707460e+05</td>\n",
       "      <td>1.707460e+05</td>\n",
       "      <td>1.707460e+05</td>\n",
       "      <td>1.707460e+05</td>\n",
       "    </tr>\n",
       "    <tr>\n",
       "      <th>mean</th>\n",
       "      <td>1.930318e-16</td>\n",
       "      <td>-2.145152e-14</td>\n",
       "      <td>-9.143650e-16</td>\n",
       "      <td>1.480246e-13</td>\n",
       "      <td>1.149732e-15</td>\n",
       "      <td>1.799221e-17</td>\n",
       "      <td>-9.432500e-17</td>\n",
       "      <td>-1.918913e-16</td>\n",
       "      <td>3.192060e-16</td>\n",
       "      <td>1.479642e-15</td>\n",
       "      <td>1.261214e-15</td>\n",
       "      <td>4.507313e-15</td>\n",
       "      <td>-7.899159e-15</td>\n",
       "      <td>1.824888e-13</td>\n",
       "      <td>3.558071e-15</td>\n",
       "    </tr>\n",
       "    <tr>\n",
       "      <th>std</th>\n",
       "      <td>1.000000e+00</td>\n",
       "      <td>1.000000e+00</td>\n",
       "      <td>1.000000e+00</td>\n",
       "      <td>1.000000e+00</td>\n",
       "      <td>1.000000e+00</td>\n",
       "      <td>1.000000e+00</td>\n",
       "      <td>1.000000e+00</td>\n",
       "      <td>1.000000e+00</td>\n",
       "      <td>1.000000e+00</td>\n",
       "      <td>1.000000e+00</td>\n",
       "      <td>1.000000e+00</td>\n",
       "      <td>1.000000e+00</td>\n",
       "      <td>1.000000e+00</td>\n",
       "      <td>1.000000e+00</td>\n",
       "      <td>1.000000e+00</td>\n",
       "    </tr>\n",
       "    <tr>\n",
       "      <th>min</th>\n",
       "      <td>-1.753961e+00</td>\n",
       "      <td>-1.438826e+00</td>\n",
       "      <td>-2.256554e+00</td>\n",
       "      <td>-3.777910e+00</td>\n",
       "      <td>-1.602681e+00</td>\n",
       "      <td>-1.111818e+00</td>\n",
       "      <td>-2.115358e-01</td>\n",
       "      <td>-7.905146e-01</td>\n",
       "      <td>-1.350236e+00</td>\n",
       "      <td>-7.192199e-01</td>\n",
       "      <td>-1.749098e-01</td>\n",
       "      <td>-9.368710e-01</td>\n",
       "      <td>-1.752102e-01</td>\n",
       "      <td>-1.458770e+00</td>\n",
       "      <td>-1.729791e-01</td>\n",
       "    </tr>\n",
       "    <tr>\n",
       "      <th>25%</th>\n",
       "      <td>-8.057345e-01</td>\n",
       "      <td>-6.890785e-01</td>\n",
       "      <td>-2.773065e-01</td>\n",
       "      <td>-7.240659e-01</td>\n",
       "      <td>-6.044506e-01</td>\n",
       "      <td>-5.540667e-01</td>\n",
       "      <td>-2.115358e-01</td>\n",
       "      <td>-5.184079e-01</td>\n",
       "      <td>-5.855319e-01</td>\n",
       "      <td>-5.535038e-01</td>\n",
       "      <td>-1.749098e-01</td>\n",
       "      <td>-6.595270e-01</td>\n",
       "      <td>-1.752102e-01</td>\n",
       "      <td>-6.553020e-01</td>\n",
       "      <td>-1.729791e-01</td>\n",
       "    </tr>\n",
       "    <tr>\n",
       "      <th>50%</th>\n",
       "      <td>-2.367988e-01</td>\n",
       "      <td>-2.997296e-01</td>\n",
       "      <td>-2.773065e-01</td>\n",
       "      <td>-6.336464e-02</td>\n",
       "      <td>-2.051584e-01</td>\n",
       "      <td>3.684675e-03</td>\n",
       "      <td>-2.115358e-01</td>\n",
       "      <td>-3.067201e-01</td>\n",
       "      <td>-2.490619e-01</td>\n",
       "      <td>-2.717863e-01</td>\n",
       "      <td>-1.749098e-01</td>\n",
       "      <td>-2.488858e-01</td>\n",
       "      <td>-1.752102e-01</td>\n",
       "      <td>-2.425694e-01</td>\n",
       "      <td>-1.729791e-01</td>\n",
       "    </tr>\n",
       "    <tr>\n",
       "      <th>75%</th>\n",
       "      <td>6.166046e-01</td>\n",
       "      <td>3.679106e-01</td>\n",
       "      <td>2.881928e-01</td>\n",
       "      <td>6.674774e-01</td>\n",
       "      <td>3.937798e-01</td>\n",
       "      <td>5.614360e-01</td>\n",
       "      <td>-2.115358e-01</td>\n",
       "      <td>1.424034e-01</td>\n",
       "      <td>2.709372e-01</td>\n",
       "      <td>2.336480e-01</td>\n",
       "      <td>-1.749098e-01</td>\n",
       "      <td>3.531013e-01</td>\n",
       "      <td>-1.752102e-01</td>\n",
       "      <td>3.631626e-01</td>\n",
       "      <td>-1.729791e-01</td>\n",
       "    </tr>\n",
       "    <tr>\n",
       "      <th>max</th>\n",
       "      <td>3.271638e+00</td>\n",
       "      <td>1.071187e+01</td>\n",
       "      <td>7.074184e+00</td>\n",
       "      <td>5.301590e+00</td>\n",
       "      <td>3.633007e+01</td>\n",
       "      <td>1.060096e+01</td>\n",
       "      <td>1.435057e+01</td>\n",
       "      <td>9.254232e+01</td>\n",
       "      <td>5.370849e+01</td>\n",
       "      <td>5.893859e+01</td>\n",
       "      <td>6.319445e+01</td>\n",
       "      <td>3.518235e+01</td>\n",
       "      <td>6.406978e+01</td>\n",
       "      <td>3.670908e+01</td>\n",
       "      <td>6.634403e+01</td>\n",
       "    </tr>\n",
       "  </tbody>\n",
       "</table>\n",
       "</div>"
      ],
      "text/plain": [
       "                age    credit_sum  credit_month     score_shk  monthly_income  \\\n",
       "count  1.707460e+05  1.707460e+05  1.707460e+05  1.707460e+05    1.707460e+05   \n",
       "mean   1.930318e-16 -2.145152e-14 -9.143650e-16  1.480246e-13    1.149732e-15   \n",
       "std    1.000000e+00  1.000000e+00  1.000000e+00  1.000000e+00    1.000000e+00   \n",
       "min   -1.753961e+00 -1.438826e+00 -2.256554e+00 -3.777910e+00   -1.602681e+00   \n",
       "25%   -8.057345e-01 -6.890785e-01 -2.773065e-01 -7.240659e-01   -6.044506e-01   \n",
       "50%   -2.367988e-01 -2.997296e-01 -2.773065e-01 -6.336464e-02   -2.051584e-01   \n",
       "75%    6.166046e-01  3.679106e-01  2.881928e-01  6.674774e-01    3.937798e-01   \n",
       "max    3.271638e+00  1.071187e+01  7.074184e+00  5.301590e+00    3.633007e+01   \n",
       "\n",
       "       credit_count  overdue_credit_count         mi_cs         mi_cm  \\\n",
       "count  1.707460e+05          1.707460e+05  1.707460e+05  1.707460e+05   \n",
       "mean   1.799221e-17         -9.432500e-17 -1.918913e-16  3.192060e-16   \n",
       "std    1.000000e+00          1.000000e+00  1.000000e+00  1.000000e+00   \n",
       "min   -1.111818e+00         -2.115358e-01 -7.905146e-01 -1.350236e+00   \n",
       "25%   -5.540667e-01         -2.115358e-01 -5.184079e-01 -5.855319e-01   \n",
       "50%    3.684675e-03         -2.115358e-01 -3.067201e-01 -2.490619e-01   \n",
       "75%    5.614360e-01         -2.115358e-01  1.424034e-01  2.709372e-01   \n",
       "max    1.060096e+01          1.435057e+01  9.254232e+01  5.370849e+01   \n",
       "\n",
       "              mi_cc        mi_occ     mi_div_cc    mi_div_occ  \\\n",
       "count  1.707460e+05  1.707460e+05  1.707460e+05  1.707460e+05   \n",
       "mean   1.479642e-15  1.261214e-15  4.507313e-15 -7.899159e-15   \n",
       "std    1.000000e+00  1.000000e+00  1.000000e+00  1.000000e+00   \n",
       "min   -7.192199e-01 -1.749098e-01 -9.368710e-01 -1.752102e-01   \n",
       "25%   -5.535038e-01 -1.749098e-01 -6.595270e-01 -1.752102e-01   \n",
       "50%   -2.717863e-01 -1.749098e-01 -2.488858e-01 -1.752102e-01   \n",
       "75%    2.336480e-01 -1.749098e-01  3.531013e-01 -1.752102e-01   \n",
       "max    5.893859e+01  6.319445e+01  3.518235e+01  6.406978e+01   \n",
       "\n",
       "       mi_minus_div_cc  mi_minus_div_occ  \n",
       "count     1.707460e+05      1.707460e+05  \n",
       "mean      1.824888e-13      3.558071e-15  \n",
       "std       1.000000e+00      1.000000e+00  \n",
       "min      -1.458770e+00     -1.729791e-01  \n",
       "25%      -6.553020e-01     -1.729791e-01  \n",
       "50%      -2.425694e-01     -1.729791e-01  \n",
       "75%       3.631626e-01     -1.729791e-01  \n",
       "max       3.670908e+01      6.634403e+01  "
      ]
     },
     "execution_count": 15,
     "metadata": {},
     "output_type": "execute_result"
    }
   ],
   "source": [
    "train_numerical = train[numerical_columns]\n",
    "train_numerical = (train_numerical - train_numerical.mean()) / train_numerical.std()\n",
    "train_numerical.describe()"
   ]
  },
  {
   "cell_type": "code",
   "execution_count": 16,
   "metadata": {
    "collapsed": false
   },
   "outputs": [
    {
     "data": {
      "text/html": [
       "<div>\n",
       "<table border=\"1\" class=\"dataframe\">\n",
       "  <thead>\n",
       "    <tr style=\"text-align: right;\">\n",
       "      <th></th>\n",
       "      <th>age</th>\n",
       "      <th>credit_sum</th>\n",
       "      <th>credit_month</th>\n",
       "      <th>score_shk</th>\n",
       "      <th>monthly_income</th>\n",
       "      <th>credit_count</th>\n",
       "      <th>overdue_credit_count</th>\n",
       "      <th>mi_cs</th>\n",
       "      <th>mi_cm</th>\n",
       "      <th>mi_cc</th>\n",
       "      <th>mi_occ</th>\n",
       "      <th>mi_div_cc</th>\n",
       "      <th>mi_div_occ</th>\n",
       "      <th>mi_minus_div_cc</th>\n",
       "      <th>mi_minus_div_occ</th>\n",
       "    </tr>\n",
       "  </thead>\n",
       "  <tbody>\n",
       "    <tr>\n",
       "      <th>count</th>\n",
       "      <td>9.194000e+04</td>\n",
       "      <td>9.194000e+04</td>\n",
       "      <td>9.194000e+04</td>\n",
       "      <td>9.194000e+04</td>\n",
       "      <td>9.194000e+04</td>\n",
       "      <td>9.194000e+04</td>\n",
       "      <td>9.194000e+04</td>\n",
       "      <td>9.194000e+04</td>\n",
       "      <td>9.194000e+04</td>\n",
       "      <td>9.194000e+04</td>\n",
       "      <td>9.194000e+04</td>\n",
       "      <td>9.194000e+04</td>\n",
       "      <td>9.194000e+04</td>\n",
       "      <td>9.194000e+04</td>\n",
       "      <td>9.194000e+04</td>\n",
       "    </tr>\n",
       "    <tr>\n",
       "      <th>mean</th>\n",
       "      <td>-4.581451e-18</td>\n",
       "      <td>-5.731256e-15</td>\n",
       "      <td>2.182698e-15</td>\n",
       "      <td>5.066961e-14</td>\n",
       "      <td>2.517916e-16</td>\n",
       "      <td>8.660851e-16</td>\n",
       "      <td>4.410661e-16</td>\n",
       "      <td>1.332940e-16</td>\n",
       "      <td>1.830842e-16</td>\n",
       "      <td>-2.109472e-16</td>\n",
       "      <td>-1.466934e-16</td>\n",
       "      <td>3.166203e-15</td>\n",
       "      <td>3.677122e-16</td>\n",
       "      <td>6.888531e-14</td>\n",
       "      <td>1.372315e-15</td>\n",
       "    </tr>\n",
       "    <tr>\n",
       "      <th>std</th>\n",
       "      <td>1.000000e+00</td>\n",
       "      <td>1.000000e+00</td>\n",
       "      <td>1.000000e+00</td>\n",
       "      <td>1.000000e+00</td>\n",
       "      <td>1.000000e+00</td>\n",
       "      <td>1.000000e+00</td>\n",
       "      <td>1.000000e+00</td>\n",
       "      <td>1.000000e+00</td>\n",
       "      <td>1.000000e+00</td>\n",
       "      <td>1.000000e+00</td>\n",
       "      <td>1.000000e+00</td>\n",
       "      <td>1.000000e+00</td>\n",
       "      <td>1.000000e+00</td>\n",
       "      <td>1.000000e+00</td>\n",
       "      <td>1.000000e+00</td>\n",
       "    </tr>\n",
       "    <tr>\n",
       "      <th>min</th>\n",
       "      <td>-1.756151e+00</td>\n",
       "      <td>-1.421500e+00</td>\n",
       "      <td>-2.247284e+00</td>\n",
       "      <td>-3.765734e+00</td>\n",
       "      <td>-1.625920e+00</td>\n",
       "      <td>-1.119931e+00</td>\n",
       "      <td>-2.114300e-01</td>\n",
       "      <td>-8.340031e-01</td>\n",
       "      <td>-1.360348e+00</td>\n",
       "      <td>-7.452754e-01</td>\n",
       "      <td>-1.781560e-01</td>\n",
       "      <td>-9.404322e-01</td>\n",
       "      <td>-1.784411e-01</td>\n",
       "      <td>-1.022938e+00</td>\n",
       "      <td>-1.765276e-01</td>\n",
       "    </tr>\n",
       "    <tr>\n",
       "      <th>25%</th>\n",
       "      <td>-8.048814e-01</td>\n",
       "      <td>-6.903420e-01</td>\n",
       "      <td>-2.763121e-01</td>\n",
       "      <td>-7.234353e-01</td>\n",
       "      <td>-6.118274e-01</td>\n",
       "      <td>-5.600142e-01</td>\n",
       "      <td>-2.114300e-01</td>\n",
       "      <td>-5.461905e-01</td>\n",
       "      <td>-5.887274e-01</td>\n",
       "      <td>-5.735179e-01</td>\n",
       "      <td>-1.781560e-01</td>\n",
       "      <td>-6.459396e-01</td>\n",
       "      <td>-1.784411e-01</td>\n",
       "      <td>-6.420324e-01</td>\n",
       "      <td>-1.765276e-01</td>\n",
       "    </tr>\n",
       "    <tr>\n",
       "      <th>50%</th>\n",
       "      <td>-2.341195e-01</td>\n",
       "      <td>-3.036195e-01</td>\n",
       "      <td>-2.763121e-01</td>\n",
       "      <td>-6.509083e-02</td>\n",
       "      <td>-2.061903e-01</td>\n",
       "      <td>-9.744038e-05</td>\n",
       "      <td>-2.114300e-01</td>\n",
       "      <td>-3.238141e-01</td>\n",
       "      <td>-2.492144e-01</td>\n",
       "      <td>-2.815301e-01</td>\n",
       "      <td>-1.781560e-01</td>\n",
       "      <td>-2.446935e-01</td>\n",
       "      <td>-1.784411e-01</td>\n",
       "      <td>-2.377966e-01</td>\n",
       "      <td>-1.765276e-01</td>\n",
       "    </tr>\n",
       "    <tr>\n",
       "      <th>75%</th>\n",
       "      <td>6.220232e-01</td>\n",
       "      <td>3.649149e-01</td>\n",
       "      <td>2.868226e-01</td>\n",
       "      <td>6.641195e-01</td>\n",
       "      <td>4.022654e-01</td>\n",
       "      <td>5.598193e-01</td>\n",
       "      <td>-2.114300e-01</td>\n",
       "      <td>1.553844e-01</td>\n",
       "      <td>2.693147e-01</td>\n",
       "      <td>2.423303e-01</td>\n",
       "      <td>-1.781560e-01</td>\n",
       "      <td>3.479727e-01</td>\n",
       "      <td>-1.784411e-01</td>\n",
       "      <td>3.612826e-01</td>\n",
       "      <td>-1.765276e-01</td>\n",
       "    </tr>\n",
       "    <tr>\n",
       "      <th>max</th>\n",
       "      <td>3.285578e+00</td>\n",
       "      <td>1.071799e+01</td>\n",
       "      <td>7.044439e+00</td>\n",
       "      <td>6.312392e+00</td>\n",
       "      <td>2.676868e+01</td>\n",
       "      <td>1.119824e+01</td>\n",
       "      <td>1.436408e+01</td>\n",
       "      <td>4.140155e+01</td>\n",
       "      <td>3.567744e+01</td>\n",
       "      <td>2.931229e+01</td>\n",
       "      <td>3.616194e+01</td>\n",
       "      <td>3.384650e+01</td>\n",
       "      <td>3.664756e+01</td>\n",
       "      <td>3.538403e+01</td>\n",
       "      <td>3.831255e+01</td>\n",
       "    </tr>\n",
       "  </tbody>\n",
       "</table>\n",
       "</div>"
      ],
      "text/plain": [
       "                age    credit_sum  credit_month     score_shk  monthly_income  \\\n",
       "count  9.194000e+04  9.194000e+04  9.194000e+04  9.194000e+04    9.194000e+04   \n",
       "mean  -4.581451e-18 -5.731256e-15  2.182698e-15  5.066961e-14    2.517916e-16   \n",
       "std    1.000000e+00  1.000000e+00  1.000000e+00  1.000000e+00    1.000000e+00   \n",
       "min   -1.756151e+00 -1.421500e+00 -2.247284e+00 -3.765734e+00   -1.625920e+00   \n",
       "25%   -8.048814e-01 -6.903420e-01 -2.763121e-01 -7.234353e-01   -6.118274e-01   \n",
       "50%   -2.341195e-01 -3.036195e-01 -2.763121e-01 -6.509083e-02   -2.061903e-01   \n",
       "75%    6.220232e-01  3.649149e-01  2.868226e-01  6.641195e-01    4.022654e-01   \n",
       "max    3.285578e+00  1.071799e+01  7.044439e+00  6.312392e+00    2.676868e+01   \n",
       "\n",
       "       credit_count  overdue_credit_count         mi_cs         mi_cm  \\\n",
       "count  9.194000e+04          9.194000e+04  9.194000e+04  9.194000e+04   \n",
       "mean   8.660851e-16          4.410661e-16  1.332940e-16  1.830842e-16   \n",
       "std    1.000000e+00          1.000000e+00  1.000000e+00  1.000000e+00   \n",
       "min   -1.119931e+00         -2.114300e-01 -8.340031e-01 -1.360348e+00   \n",
       "25%   -5.600142e-01         -2.114300e-01 -5.461905e-01 -5.887274e-01   \n",
       "50%   -9.744038e-05         -2.114300e-01 -3.238141e-01 -2.492144e-01   \n",
       "75%    5.598193e-01         -2.114300e-01  1.553844e-01  2.693147e-01   \n",
       "max    1.119824e+01          1.436408e+01  4.140155e+01  3.567744e+01   \n",
       "\n",
       "              mi_cc        mi_occ     mi_div_cc    mi_div_occ  \\\n",
       "count  9.194000e+04  9.194000e+04  9.194000e+04  9.194000e+04   \n",
       "mean  -2.109472e-16 -1.466934e-16  3.166203e-15  3.677122e-16   \n",
       "std    1.000000e+00  1.000000e+00  1.000000e+00  1.000000e+00   \n",
       "min   -7.452754e-01 -1.781560e-01 -9.404322e-01 -1.784411e-01   \n",
       "25%   -5.735179e-01 -1.781560e-01 -6.459396e-01 -1.784411e-01   \n",
       "50%   -2.815301e-01 -1.781560e-01 -2.446935e-01 -1.784411e-01   \n",
       "75%    2.423303e-01 -1.781560e-01  3.479727e-01 -1.784411e-01   \n",
       "max    2.931229e+01  3.616194e+01  3.384650e+01  3.664756e+01   \n",
       "\n",
       "       mi_minus_div_cc  mi_minus_div_occ  \n",
       "count     9.194000e+04      9.194000e+04  \n",
       "mean      6.888531e-14      1.372315e-15  \n",
       "std       1.000000e+00      1.000000e+00  \n",
       "min      -1.022938e+00     -1.765276e-01  \n",
       "25%      -6.420324e-01     -1.765276e-01  \n",
       "50%      -2.377966e-01     -1.765276e-01  \n",
       "75%       3.612826e-01     -1.765276e-01  \n",
       "max       3.538403e+01      3.831255e+01  "
      ]
     },
     "execution_count": 16,
     "metadata": {},
     "output_type": "execute_result"
    }
   ],
   "source": [
    "test_numerical = test[numerical_columns]\n",
    "test_numerical = (test_numerical - test_numerical.mean()) / test_numerical.std()\n",
    "test_numerical.describe()"
   ]
  },
  {
   "cell_type": "markdown",
   "metadata": {},
   "source": [
    "Соединяем все в одну таблицу"
   ]
  },
  {
   "cell_type": "code",
   "execution_count": 17,
   "metadata": {
    "collapsed": false
   },
   "outputs": [
    {
     "name": "stdout",
     "output_type": "stream",
     "text": [
      "(91940, 75)\n",
      "Index(['age', 'credit_sum', 'credit_month', 'score_shk', 'monthly_income',\n",
      "       'credit_count', 'overdue_credit_count', 'mi_cs', 'mi_cm', 'mi_cc',\n",
      "       'mi_occ', 'mi_div_cc', 'mi_div_occ', 'mi_minus_div_cc',\n",
      "       'mi_minus_div_occ', 'gender_F', 'gender_M', 'marital_status_CIV',\n",
      "       'marital_status_DIV', 'marital_status_MAR', 'marital_status_UNM',\n",
      "       'marital_status_WID', 'job_position_ATP', 'job_position_BIS',\n",
      "       'job_position_BIU', 'job_position_DIR', 'job_position_HSK',\n",
      "       'job_position_INP', 'job_position_INV', 'job_position_NOR',\n",
      "       'job_position_ONB', 'job_position_PNA', 'job_position_PNI',\n",
      "       'job_position_PNS', 'job_position_PNV', 'job_position_SPC',\n",
      "       'job_position_UMN', 'job_position_WOI', 'job_position_WRK',\n",
      "       'job_position_WRP', 'tariff_id_1.0', 'tariff_id_1.1', 'tariff_id_1.16',\n",
      "       'tariff_id_1.17', 'tariff_id_1.18', 'tariff_id_1.19', 'tariff_id_1.2',\n",
      "       'tariff_id_1.21', 'tariff_id_1.22', 'tariff_id_1.23', 'tariff_id_1.24',\n",
      "       'tariff_id_1.25', 'tariff_id_1.26', 'tariff_id_1.27', 'tariff_id_1.28',\n",
      "       'tariff_id_1.29', 'tariff_id_1.3', 'tariff_id_1.32', 'tariff_id_1.4',\n",
      "       'tariff_id_1.41', 'tariff_id_1.43', 'tariff_id_1.44', 'tariff_id_1.48',\n",
      "       'tariff_id_1.5', 'tariff_id_1.56', 'tariff_id_1.6', 'tariff_id_1.7',\n",
      "       'tariff_id_1.9', 'tariff_id_1.91', 'tariff_id_1.94', 'education_ACD',\n",
      "       'education_GRD', 'education_PGR', 'education_SCH', 'education_UGR'],\n",
      "      dtype='object')\n"
     ]
    }
   ],
   "source": [
    "data_test = pd.concat((test_numerical, test_nonbinary), axis=1)\n",
    "data_test = pd.DataFrame(data_test, dtype=float)\n",
    "print(data_test.shape)\n",
    "print(data_test.columns)"
   ]
  },
  {
   "cell_type": "code",
   "execution_count": 18,
   "metadata": {
    "collapsed": false
   },
   "outputs": [
    {
     "name": "stdout",
     "output_type": "stream",
     "text": [
      "(170746, 77)\n",
      "Index(['age', 'credit_sum', 'credit_month', 'score_shk', 'monthly_income',\n",
      "       'credit_count', 'overdue_credit_count', 'mi_cs', 'mi_cm', 'mi_cc',\n",
      "       'mi_occ', 'mi_div_cc', 'mi_div_occ', 'mi_minus_div_cc',\n",
      "       'mi_minus_div_occ', 'gender_F', 'gender_M', 'marital_status_CIV',\n",
      "       'marital_status_DIV', 'marital_status_MAR', 'marital_status_UNM',\n",
      "       'marital_status_WID', 'job_position_ATP', 'job_position_BIS',\n",
      "       'job_position_BIU', 'job_position_DIR', 'job_position_HSK',\n",
      "       'job_position_INP', 'job_position_INV', 'job_position_NOR',\n",
      "       'job_position_ONB', 'job_position_PNA', 'job_position_PNI',\n",
      "       'job_position_PNS', 'job_position_PNV', 'job_position_SPC',\n",
      "       'job_position_UMN', 'job_position_WOI', 'job_position_WRK',\n",
      "       'job_position_WRP', 'tariff_id_1.0', 'tariff_id_1.1', 'tariff_id_1.16',\n",
      "       'tariff_id_1.17', 'tariff_id_1.18', 'tariff_id_1.19', 'tariff_id_1.2',\n",
      "       'tariff_id_1.21', 'tariff_id_1.22', 'tariff_id_1.23', 'tariff_id_1.24',\n",
      "       'tariff_id_1.25', 'tariff_id_1.26', 'tariff_id_1.27', 'tariff_id_1.28',\n",
      "       'tariff_id_1.29', 'tariff_id_1.3', 'tariff_id_1.32', 'tariff_id_1.4',\n",
      "       'tariff_id_1.41', 'tariff_id_1.43', 'tariff_id_1.44', 'tariff_id_1.48',\n",
      "       'tariff_id_1.5', 'tariff_id_1.52', 'tariff_id_1.56', 'tariff_id_1.6',\n",
      "       'tariff_id_1.7', 'tariff_id_1.9', 'tariff_id_1.91', 'tariff_id_1.94',\n",
      "       'tariff_id_1.96', 'education_ACD', 'education_GRD', 'education_PGR',\n",
      "       'education_SCH', 'education_UGR'],\n",
      "      dtype='object')\n"
     ]
    }
   ],
   "source": [
    "data_train = pd.concat((train_numerical, train_nonbinary), axis=1)\n",
    "data_train = pd.DataFrame(data_train, dtype=float)\n",
    "print(data_train.shape)\n",
    "print(data_train.columns)"
   ]
  },
  {
   "cell_type": "markdown",
   "metadata": {},
   "source": [
    "Посмотрим какие 10 наиболее важных признаков выделят LightGBM и XGBoost"
   ]
  },
  {
   "cell_type": "code",
   "execution_count": 19,
   "metadata": {
    "collapsed": true
   },
   "outputs": [],
   "source": [
    "# full path to lightgbm executable (on Windows include .exe)\n",
    "path_to_exec = '/lightgbm.exe'"
   ]
  },
  {
   "cell_type": "code",
   "execution_count": 20,
   "metadata": {
    "collapsed": false
   },
   "outputs": [
    {
     "name": "stdout",
     "output_type": "stream",
     "text": [
      "pyLightGBM is looking for 'LIGHTGBM_EXEC' environment variable, cannot be found.\n",
      "exec_path will be deprecated in favor of environment variable\n"
     ]
    }
   ],
   "source": [
    "clf_xgb = XGBClassifier(max_depth=3, n_estimators=1000)\n",
    "clf_gbm = GBMClassifier(exec_path=path_to_exec, num_iterations=1000, min_data_in_leaf=1, num_leaves=10,\n",
    "                   metric='binary_error', learning_rate=0.1, early_stopping_round=10, verbose=False)\n",
    "\n",
    "\n",
    "clf_xgb.fit(data_train, train.open_account_flg)\n",
    "clf_gbm.fit(data_train, train.open_account_flg)"
   ]
  },
  {
   "cell_type": "code",
   "execution_count": 21,
   "metadata": {
    "collapsed": false
   },
   "outputs": [
    {
     "name": "stdout",
     "output_type": "stream",
     "text": [
      "xgboost: feature importance\n",
      "{'credit_count': 116, 'tariff_id_1.6': 72, 'mi_minus_div_occ': 128, 'marital_status_CIV': 17, 'marital_status_MAR': 41, 'tariff_id_1.7': 25, 'mi_cc': 265, 'education_UGR': 47, 'job_position_UMN': 20, 'education_ACD': 6, 'tariff_id_1.2': 13, 'job_position_NOR': 27, 'tariff_id_1.41': 11, 'job_position_WRK': 21, 'tariff_id_1.17': 11, 'tariff_id_1.52': 1, 'score_shk': 899, 'tariff_id_1.3': 46, 'tariff_id_1.91': 34, 'mi_cm': 334, 'tariff_id_1.16': 37, 'monthly_income': 260, 'job_position_DIR': 20, 'tariff_id_1.19': 32, 'tariff_id_1.5': 57, 'mi_cs': 699, 'tariff_id_1.1': 76, 'tariff_id_1.44': 34, 'job_position_SPC': 43, 'tariff_id_1.9': 37, 'tariff_id_1.24': 9, 'credit_sum': 954, 'tariff_id_1.32': 109, 'job_position_INP': 8, 'job_position_BIU': 16, 'tariff_id_1.4': 63, 'education_SCH': 68, 'mi_occ': 35, 'job_position_PNV': 5, 'education_PGR': 5, 'tariff_id_1.0': 33, 'tariff_id_1.22': 16, 'marital_status_DIV': 11, 'credit_month': 317, 'tariff_id_1.94': 7, 'marital_status_UNM': 27, 'gender_F': 73, 'job_position_PNI': 8, 'mi_div_cc': 171, 'mi_minus_div_cc': 423, 'overdue_credit_count': 13, 'age': 495, 'tariff_id_1.23': 14, 'job_position_WOI': 3, 'mi_div_occ': 9, 'tariff_id_1.21': 25, 'education_GRD': 62, 'job_position_PNA': 46, 'job_position_PNS': 18, 'tariff_id_1.43': 44, 'job_position_ATP': 29, 'marital_status_WID': 12, 'job_position_BIS': 13, 'job_position_INV': 17, 'tariff_id_1.18': 41, 'tariff_id_1.25': 12}\n",
      "lightgbm: feature importance\n",
      "{'credit_count': 172, 'tariff_id_1.6': 87, 'mi_minus_div_occ': 103, 'marital_status_MAR': 76, 'tariff_id_1.7': 30, 'education_GRD': 65, 'education_UGR': 69, 'marital_status_UNM': 54, 'education_ACD': 8, 'tariff_id_1.2': 19, 'job_position_NOR': 24, 'tariff_id_1.41': 12, 'job_position_WRK': 21, 'tariff_id_1.17': 15, 'education_SCH': 75, 'job_position_INP': 12, 'tariff_id_1.91': 29, 'mi_cm': 647, 'tariff_id_1.16': 31, 'monthly_income': 414, 'job_position_DIR': 38, 'tariff_id_1.19': 30, 'marital_status_CIV': 29, 'mi_cs': 726, 'tariff_id_1.1': 96, 'tariff_id_1.44': 42, 'marital_status_WID': 16, 'tariff_id_1.9': 46, 'tariff_id_1.24': 8, 'tariff_id_1.5': 66, 'credit_sum': 1083, 'tariff_id_1.32': 139, 'tariff_id_1.3': 76, 'job_position_BIU': 14, 'tariff_id_1.4': 68, 'score_shk': 1253, 'mi_occ': 64, 'job_position_PNV': 5, 'gender_M': 4, 'education_PGR': 12, 'tariff_id_1.0': 43, 'tariff_id_1.22': 19, 'marital_status_DIV': 30, 'credit_month': 422, 'tariff_id_1.94': 11, 'job_position_UMN': 47, 'gender_F': 99, 'job_position_PNI': 9, 'mi_div_cc': 355, 'mi_minus_div_cc': 423, 'overdue_credit_count': 13, 'age': 838, 'tariff_id_1.23': 17, 'job_position_WOI': 6, 'mi_div_occ': 23, 'tariff_id_1.21': 26, 'mi_cc': 537, 'job_position_PNA': 61, 'tariff_id_1.43': 49, 'job_position_ATP': 41, 'job_position_SPC': 81, 'job_position_BIS': 28, 'tariff_id_1.18': 34, 'tariff_id_1.25': 10}\n"
     ]
    }
   ],
   "source": [
    "print(\"xgboost: feature importance\")\n",
    "dic_fi = clf_xgb.booster().get_fscore()\n",
    "print(dic_fi)\n",
    "\n",
    "print(\"lightgbm: feature importance\")\n",
    "gbm_fi = clf_gbm.feature_importance(data_train.columns)\n",
    "print(gbm_fi)"
   ]
  },
  {
   "cell_type": "code",
   "execution_count": 22,
   "metadata": {
    "collapsed": false
   },
   "outputs": [],
   "source": [
    "dic_fi = pd.Series(dic_fi)\n",
    "gbm_fi = pd.Series(gbm_fi)"
   ]
  },
  {
   "cell_type": "code",
   "execution_count": 23,
   "metadata": {
    "collapsed": false
   },
   "outputs": [],
   "source": [
    "dic_fi = dic_fi.sort_values(ascending=False)[:10]\n",
    "gbm_fi = gbm_fi.sort_values(ascending=False)[:10]"
   ]
  },
  {
   "cell_type": "code",
   "execution_count": 24,
   "metadata": {
    "collapsed": false
   },
   "outputs": [
    {
     "data": {
      "text/plain": [
       "<matplotlib.text.Text at 0xba4a2b0>"
      ]
     },
     "execution_count": 24,
     "metadata": {},
     "output_type": "execute_result"
    },
    {
     "data": {
      "image/png": "[encoded data removed]",
      "text/plain": [
       "<matplotlib.figure.Figure at 0xb995a58>"
      ]
     },
     "metadata": {},
     "output_type": "display_data"
    }
   ],
   "source": [
    "fig = plt.figure(figsize = (20, 20))\n",
    "\n",
    "plt.subplot(2, 2, 1)\n",
    "plt.bar(np.arange(len(dic_fi)), dic_fi.values, align='center')\n",
    "plt.xticks(np.arange(len(dic_fi)), dic_fi.index, fontweight='bold', rotation='vertical')\n",
    "plt.title('xgboost: 10 наиболее важных признаков ', fontsize=15, fontweight='bold')\n",
    "\n",
    "plt.subplot(2, 2, 2)\n",
    "plt.bar(np.arange(len(gbm_fi)), gbm_fi.values, align='center')\n",
    "plt.xticks(np.arange(len(gbm_fi)), gbm_fi.index, fontweight='bold', rotation='vertical')\n",
    "plt.title('lightgbm: 10 наиболее важных признаков', fontsize=15, fontweight='bold')"
   ]
  },
  {
   "cell_type": "markdown",
   "metadata": {},
   "source": [
    "Для предсказания воспользуемся библиотекой LightGBM.\n",
    "Для начала оценим нашу модель по метрикам. Обучать модель будет на 60% данных. Для валидации используем 40% данных."
   ]
  },
  {
   "cell_type": "code",
   "execution_count": 25,
   "metadata": {
    "collapsed": false
   },
   "outputs": [
    {
     "name": "stderr",
     "output_type": "stream",
     "text": [
      "C:\\Anaconda3\\lib\\site-packages\\ipykernel\\__main__.py:1: DeprecationWarning: using a non-integer number instead of an integer will result in an error in the future\n",
      "  if __name__ == '__main__':\n",
      "C:\\Anaconda3\\lib\\site-packages\\ipykernel\\__main__.py:2: DeprecationWarning: using a non-integer number instead of an integer will result in an error in the future\n",
      "  from ipykernel import kernelapp as app\n",
      "C:\\Anaconda3\\lib\\site-packages\\ipykernel\\__main__.py:8: DeprecationWarning: using a non-integer number instead of an integer will result in an error in the future\n"
     ]
    },
    {
     "name": "stdout",
     "output_type": "stream",
     "text": [
      "pyLightGBM is looking for 'LIGHTGBM_EXEC' environment variable, cannot be found.\n",
      "exec_path will be deprecated in favor of environment variable\n",
      "accuracy_score:  0.826102871199\n",
      "roc_auc:  0.554264543256\n",
      "confusion_matrix: \n",
      " [[54797  1537]\n",
      " [10340  1625]]\n",
      "classification_report: \n",
      "              precision    recall  f1-score   support\n",
      "\n",
      "          0       0.84      0.97      0.90     56334\n",
      "          1       0.51      0.14      0.21     11965\n",
      "\n",
      "avg / total       0.78      0.83      0.78     68299\n",
      "\n"
     ]
    },
    {
     "name": "stderr",
     "output_type": "stream",
     "text": [
      "C:\\Anaconda3\\lib\\site-packages\\ipykernel\\__main__.py:11: DeprecationWarning: using a non-integer number instead of an integer will result in an error in the future\n"
     ]
    }
   ],
   "source": [
    "tr = np.array(data_train)[:len(data_train)*0.6]\n",
    "te = np.array(data_train)[len(data_train)*0.6:]\n",
    "lgb_model = GBMClassifier(exec_path=path_to_exec, num_iterations=10000,\n",
    "                          min_data_in_leaf=1, bagging_fraction=0.5, \n",
    "                          num_leaves=10, metric='binary_error',\n",
    "                          learning_rate=0.04, early_stopping_round=10,\n",
    "                          verbose=False)\n",
    "lgb_model.fit(np.array(tr), np.array(train.open_account_flg)[:len(train)*0.6].ravel())\n",
    "\n",
    "predictions = lgb_model.predict(np.array(te))\n",
    "actuals = np.array(train.open_account_flg)[len(train)*0.6:]\n",
    "\n",
    "print('accuracy_score: ',metrics.accuracy_score(actuals, predictions))\n",
    "print('roc_auc: ', metrics.roc_auc_score(actuals, predictions))\n",
    "print('confusion_matrix: \\n', metrics.confusion_matrix(actuals, predictions))\n",
    "print('classification_report: \\n', metrics.classification_report(actuals, predictions))"
   ]
  },
  {
   "cell_type": "markdown",
   "metadata": {},
   "source": [
    "И непосредственно обучим модель на всех данных и сделаем предсказание"
   ]
  },
  {
   "cell_type": "code",
   "execution_count": 26,
   "metadata": {
    "collapsed": false
   },
   "outputs": [
    {
     "name": "stdout",
     "output_type": "stream",
     "text": [
      "pyLightGBM is looking for 'LIGHTGBM_EXEC' environment variable, cannot be found.\n",
      "exec_path will be deprecated in favor of environment variable\n"
     ]
    }
   ],
   "source": [
    "clf_gbm = GBMClassifier(exec_path=path_to_exec, num_iterations=10000,\n",
    "                        min_data_in_leaf=1, bagging_fraction=0.5,\n",
    "                        num_leaves=10,  metric='binary_error', \n",
    "                        learning_rate=0.04, early_stopping_round=10, \n",
    "                        verbose=False)\n",
    "\n",
    "clf_gbm.fit(data_train, train.open_account_flg)\n",
    "\n",
    "y_pred = clf_gbm.predict(data_test)"
   ]
  },
  {
   "cell_type": "code",
   "execution_count": 27,
   "metadata": {
    "collapsed": false
   },
   "outputs": [],
   "source": [
    "pd.DataFrame(y_pred).to_csv('LigthGBM.csv')"
   ]
  }
 ],
 "metadata": {
  "kernelspec": {
   "display_name": "Python [default]",
   "language": "python",
   "name": "python3"
  },
  "language_info": {
   "codemirror_mode": {
    "name": "ipython",
    "version": 3
   },
   "file_extension": ".py",
   "mimetype": "text/x-python",
   "name": "python",
   "nbconvert_exporter": "python",
   "pygments_lexer": "ipython3",
   "version": "3.5.3"
  }
 },
 "nbformat": 4,
 "nbformat_minor": 2
}
